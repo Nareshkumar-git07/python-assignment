{
 "cells": [
  {
   "cell_type": "markdown",
   "metadata": {},
   "source": [
    "# Task 1"
   ]
  },
  {
   "cell_type": "code",
   "execution_count": 2,
   "metadata": {},
   "outputs": [],
   "source": [
    "# Write a Python Program to implement your own myreduce() function which works exactly like Python's built-in function reduce() \n",
    "\n",
    "\n",
    "pro = 1\n",
    "list = [1, 2, 3, 4]\n",
    "for num in list:\n",
    "    pro = pro * num\n",
    "    "
   ]
  },
  {
   "cell_type": "code",
   "execution_count": 3,
   "metadata": {},
   "outputs": [
    {
     "name": "stdout",
     "output_type": "stream",
     "text": [
      "24\n"
     ]
    }
   ],
   "source": [
    "print(pro)"
   ]
  },
  {
   "cell_type": "code",
   "execution_count": 4,
   "metadata": {},
   "outputs": [
    {
     "name": "stdout",
     "output_type": "stream",
     "text": [
      "-5\n",
      "-4\n",
      "-3\n",
      "-2\n",
      "-1\n"
     ]
    }
   ],
   "source": [
    "# Write a Python program to implement your own myfilter() function which works exactly like Python's built-in function filter()\n",
    "\n",
    "\n",
    "no_list = range(-5,5)\n",
    "for i in no_list:\n",
    "    if i < 0:\n",
    "        print(i)"
   ]
  },
  {
   "cell_type": "code",
   "execution_count": 5,
   "metadata": {},
   "outputs": [
    {
     "name": "stdout",
     "output_type": "stream",
     "text": [
      "ACADGILD => ['A', 'C', 'A', 'D', 'G', 'I', 'L', 'D']\n",
      "['x','y','z'] => ['x', 'xx', 'xxx', 'xxxx', 'y', 'yy', 'yyy', 'yyyy', 'z', 'zz', 'zzz', 'zzzz']\n",
      "['x','y','z'] => ['x', 'y', 'z', 'xx', 'yy', 'zz', 'xxx', 'yyy', 'zzz', 'xxxx', 'yyyy', 'zzzz']\n",
      "[2,3,4] =>[[2], [3], [4], [3], [4], [5], [4], [5], [6]]\n",
      "[2,3,4,5] =>[[2, 3, 4, 5], [3, 4, 5, 6], [4, 5, 6, 7], [5, 6, 7, 8]]\n",
      "[1,2,3] =>[(1, 1), (2, 1), (3, 1), (1, 2), (2, 2), (3, 2), (1, 3), (2, 3), (3, 3)]\n"
     ]
    }
   ],
   "source": [
    "# Implement List comprehensions to produce the following lists. \n",
    "\n",
    "\n",
    "word = \"ACADGILD\"\n",
    "alphabet_list = [ alphabet for alphabet in word ]\n",
    "print (\"ACADGILD => \" + str(alphabet_list))\n",
    "\n",
    "input_list = ['x','y','z']\n",
    "result = [ item*num for item in input_list for num in range(1,5)  ]\n",
    "print(\"['x','y','z'] => \" +   str(result))\n",
    "\n",
    "input_list = ['x','y','z']\n",
    "result = [ item*num for num in range(1,5) for item in input_list  ]\n",
    "print(\"['x','y','z'] => \" +   str(result))\n",
    "\n",
    "input_list = [2,3,4]\n",
    "result = [ [item+num] for item in input_list for num in range(0,3)]\n",
    "print(\"[2,3,4] =>\" +  str(result))\n",
    "\n",
    "input_list = [2,3,4,5]\n",
    "result = [ [item+num for item in input_list] for num in range(0,4)  ]\n",
    "print(\"[2,3,4,5] =>\" +  str(result))\n",
    "\n",
    "input_list=[1,2,3]\n",
    "result = [ (b,a) for a in input_list for b in input_list]\n",
    "print(\"[1,2,3] =>\" +  str(result))"
   ]
  },
  {
   "cell_type": "code",
   "execution_count": 6,
   "metadata": {},
   "outputs": [
    {
     "data": {
      "text/plain": [
       "'mother'"
      ]
     },
     "execution_count": 6,
     "metadata": {},
     "output_type": "execute_result"
    }
   ],
   "source": [
    "# Implement a function longestWord() that takes a list of words and returns the longest one. \n",
    "\n",
    "\n",
    "\n",
    "def longestword(wordlist):\n",
    "    longword = \"\"\n",
    "    max_len = 0\n",
    "    for word in wordlist:\n",
    "        if len(word) > max_len:\n",
    "            longword = len(word)\n",
    "            longword = word\n",
    "    return longword\n",
    "longestword([\"mom\",\"dad\",\"mother\"])"
   ]
  },
  {
   "cell_type": "markdown",
   "metadata": {},
   "source": [
    "# Task 2"
   ]
  },
  {
   "cell_type": "code",
   "execution_count": 8,
   "metadata": {},
   "outputs": [
    {
     "name": "stdout",
     "output_type": "stream",
     "text": [
      "Enter the length of side A: 22\n",
      "Enter the length of side B: 77\n",
      "Enter the length of side C: 12\n",
      "Area of rectangle: 55.5\n"
     ]
    }
   ],
   "source": [
    "# Write a Python Program(with class concepts) to find the area of the triangle using the below formula.\n",
    "\n",
    "\n",
    "class Triangle:\n",
    "    def __init__(self,a,b,c):\n",
    "        self.a = a\n",
    "        self.b = b\n",
    "        self.c = c\n",
    "    def area1(self):\n",
    "        return((self.a + self.b + self.c) / 2)\n",
    "        \n",
    "        \n",
    "a = float(input(\"Enter the length of side A: \"))\n",
    "b = float(input(\"Enter the length of side B: \"))\n",
    "c = float(input(\"Enter the length of side C: \"))\n",
    "obj = Triangle(a,b,c)\n",
    "print(\"Area of rectangle:\",obj.area1())"
   ]
  },
  {
   "cell_type": "code",
   "execution_count": 13,
   "metadata": {},
   "outputs": [
    {
     "name": "stdout",
     "output_type": "stream",
     "text": [
      "Please input the list of words: hello world hi\n",
      "Please input an integer: 2\n",
      "['hello', 'world']\n",
      "None\n"
     ]
    }
   ],
   "source": [
    "# Write a function filter_long_words() that takes a list of words and an integer n and returns the list of words that are longer than n. \n",
    "\n",
    "\n",
    "def filterwords(text,number):\n",
    "    listwords = []\n",
    "    for i in range(len(text)):\n",
    "        if len(text[i]) > number:\n",
    "            listwords.append(text[i])\n",
    "    print(listwords)\n",
    "\n",
    "    \n",
    "text = input(\"Please input the list of words: \").split()\n",
    "number = int(input(\"Please input an integer: \"))\n",
    "filtered_words = filterwords(text,number)\n",
    "print(filtered_words)\n"
   ]
  },
  {
   "cell_type": "code",
   "execution_count": 20,
   "metadata": {},
   "outputs": [
    {
     "name": "stdout",
     "output_type": "stream",
     "text": [
      "enter the words: hi bye\n",
      "[2, 3]\n",
      "None\n"
     ]
    }
   ],
   "source": [
    "# Write a Python program using function concept that maps  list of words into a list of integers representing the lengths of the corresponding words.\n",
    "    \n",
    "\n",
    "\n",
    "def words_length(words):\n",
    "    lengths = []\n",
    "    for word in words:\n",
    "        lengths.append(len(word))\n",
    "    print(lengths)\n",
    "words = input(\"enter the words: \").split()\n",
    "print(words_length(words))\n"
   ]
  },
  {
   "cell_type": "code",
   "execution_count": 23,
   "metadata": {},
   "outputs": [
    {
     "name": "stdout",
     "output_type": "stream",
     "text": [
      "enter a word : a\n"
     ]
    },
    {
     "data": {
      "text/plain": [
       "True"
      ]
     },
     "execution_count": 23,
     "metadata": {},
     "output_type": "execute_result"
    }
   ],
   "source": [
    "# Write a Python function which takes a character (i.e. a string of length 1) and returns True if it is a vowel, False otherwise. \n",
    "\n",
    "\n",
    "\n",
    "def is_vowel(char):\n",
    "    vowels = 'aeiou'\n",
    "    if char in vowels:\n",
    "        return True\n",
    "    else:\n",
    "        return False\n",
    "word=input(\"enter a word : \")\n",
    "is_vowel(word)"
   ]
  },
  {
   "cell_type": "code",
   "execution_count": null,
   "metadata": {},
   "outputs": [],
   "source": []
  },
  {
   "cell_type": "code",
   "execution_count": null,
   "metadata": {},
   "outputs": [],
   "source": []
  }
 ],
 "metadata": {
  "kernelspec": {
   "display_name": "Python 3",
   "language": "python",
   "name": "python3"
  },
  "language_info": {
   "codemirror_mode": {
    "name": "ipython",
    "version": 3
   },
   "file_extension": ".py",
   "mimetype": "text/x-python",
   "name": "python",
   "nbconvert_exporter": "python",
   "pygments_lexer": "ipython3",
   "version": "3.7.6"
  }
 },
 "nbformat": 4,
 "nbformat_minor": 4
}
